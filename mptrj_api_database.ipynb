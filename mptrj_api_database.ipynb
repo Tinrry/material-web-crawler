{
 "cells": [
  {
   "cell_type": "code",
   "execution_count": null,
   "metadata": {},
   "outputs": [
    {
     "ename": "",
     "evalue": "",
     "output_type": "error",
     "traceback": [
      "\u001b[1;31m运行具有“pytest (Python 3.10.10)”的单元格需要ipykernel包。\n",
      "\u001b[1;31m运行以下命令，将 \"ipykernel\" 安装到 Python 环境中。\n",
      "\u001b[1;31m命令: \"conda install -n pytest ipykernel --update-deps --force-reinstall\""
     ]
    }
   ],
   "source": [
    "import json\n",
    "\n",
    "def process_item(item):\n",
    "\n",
    "    subset_data = {\n",
    "        \"lattice\": item.get(\"structure\").get(\"lattice\").get(\"matrix\"),\n",
    "        \"atoms\": [site.get(\"label\") for site in item.get(\"structure\").get(\"sites\")],\n",
    "        \"positions\": [site.get(\"xyz\") for site in item.get(\"structure\").get(\"sites\")],\n",
    "        \"spin\": \"not available\",\n",
    "        \"pseudopotentials\": \"not available\",\n",
    "        \"calculation\": \"not available\",\n",
    "        \"energy\": item.get(\"corrected_total_energy\"),\n",
    "        \"forces\": item.get(\"forces\"),\n",
    "        \"stress\": item.get(\"stress\"),\n",
    "    }\n",
    "    return subset_data\n",
    "\n",
    "def read_large_jsonl(file_path):\n",
    "    processed_data = []\n",
    "    with open(file_path, 'r') as f:\n",
    "        for line in f:\n",
    "            item = json.loads(line.strip())\n",
    "            processed_item = process_item(item)\n",
    "            processed_data.append(processed_item)\n",
    "            break\n",
    "    return processed_data\n",
    "\n",
    "# 示例文件路径\n",
    "traj_file = \"MPtrj_2022.9_full-processed.jsonl\"\n",
    "processed_data = read_large_jsonl(traj_file)\n",
    "\n",
    "# 打印处理后的数据\n",
    "for item in processed_data:\n",
    "    print(item)"
   ]
  }
 ],
 "metadata": {
  "kernelspec": {
   "display_name": "pytest",
   "language": "python",
   "name": "python3"
  },
  "language_info": {
   "name": "python",
   "version": "3.10.10"
  }
 },
 "nbformat": 4,
 "nbformat_minor": 2
}
