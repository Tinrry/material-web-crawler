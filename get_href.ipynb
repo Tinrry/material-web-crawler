{
 "cells": [
  {
   "cell_type": "code",
   "execution_count": 9,
   "id": "initial_id",
   "metadata": {
    "collapsed": true,
    "ExecuteTime": {
     "end_time": "2024-04-25T09:57:59.288737Z",
     "start_time": "2024-04-25T09:57:56.321418Z"
    }
   },
   "outputs": [],
   "source": [
    "import re\n",
    "import os"
   ]
  },
  {
   "cell_type": "code",
   "execution_count": 10,
   "id": "233254911cd03eb3",
   "metadata": {
    "collapsed": false,
    "ExecuteTime": {
     "end_time": "2024-04-25T09:57:59.324062Z",
     "start_time": "2024-04-25T09:57:56.329390Z"
    }
   },
   "outputs": [],
   "source": [
    "path = os.path.join(os.getcwd(), 'hand')\n",
    "for root, dirs, files in os.walk(path):\n",
    "    pass"
   ]
  },
  {
   "cell_type": "code",
   "execution_count": 11,
   "outputs": [],
   "source": [
    "save_path = os.path.join(os.getcwd(), 'get_link')\n",
    "if not os.path.exists(save_path):\n",
    "    os.mkdir(save_path)\n",
    "    "
   ],
   "metadata": {
    "collapsed": false,
    "ExecuteTime": {
     "end_time": "2024-04-25T09:57:59.324363Z",
     "start_time": "2024-04-25T09:57:56.337196Z"
    }
   },
   "id": "3d4462c881f2c715"
  },
  {
   "cell_type": "code",
   "execution_count": 12,
   "outputs": [
    {
     "name": "stdout",
     "output_type": "stream",
     "text": [
      "hand/Water-Hardening Steel-25-1\n",
      "/Users/xueguozhi/Documents/matweb/get_link\n"
     ]
    }
   ],
   "source": [
    "file_name = 'hand/Water-Hardening Steel-25-1.mht'\n",
    "print(file_name.split('.')[0])\n",
    "save_file = os.path.join(save_path, os.path.basename(file_name))\n",
    "print(save_path)\n"
   ],
   "metadata": {
    "collapsed": false,
    "ExecuteTime": {
     "end_time": "2024-04-25T09:57:59.324623Z",
     "start_time": "2024-04-25T09:57:56.344499Z"
    }
   },
   "id": "93e352ccbe2148b2"
  },
  {
   "cell_type": "code",
   "execution_count": 18,
   "id": "eebc4234252b49f6",
   "metadata": {
    "collapsed": false,
    "ExecuteTime": {
     "end_time": "2024-04-25T10:05:02.962781Z",
     "start_time": "2024-04-25T10:05:02.952360Z"
    }
   },
   "outputs": [],
   "source": [
    "import pandas as pd\n",
    "\n",
    "file_name = 'Water-Hardening Steel-25-1.mht'\n",
    "save_file = os.path.join(save_path, file_name.split('.')[0]) + '.csv'\n",
    "\n",
    "with open(os.path.join(os.getcwd(), 'hand', file_name), 'r') as f:\n",
    "    text = f.read()\n",
    "    text = text.replace('=\\n', '')\n",
    "    href_list = re.findall(r'href=3D\"(.*MatGUID.*)\"', text)\n",
    "    title_list = re.findall(r'href=3D.*MatGUID.*>(.*?)</a>', text)\n",
    "    data = {'href': href_list, 'title': title_list}\n",
    "    data_frame = pd.DataFrame(data)\n",
    "    \n",
    "    data_frame.to_csv(save_file, index=False)"
   ]
  },
  {
   "cell_type": "code",
   "execution_count": null,
   "outputs": [],
   "source": [],
   "metadata": {
    "collapsed": false,
    "ExecuteTime": {
     "start_time": "2024-04-25T09:57:56.403803Z"
    }
   },
   "id": "b115bf22e27b10bd"
  }
 ],
 "metadata": {
  "kernelspec": {
   "display_name": "Python 3",
   "language": "python",
   "name": "python3"
  },
  "language_info": {
   "codemirror_mode": {
    "name": "ipython",
    "version": 2
   },
   "file_extension": ".py",
   "mimetype": "text/x-python",
   "name": "python",
   "nbconvert_exporter": "python",
   "pygments_lexer": "ipython2",
   "version": "2.7.6"
  }
 },
 "nbformat": 4,
 "nbformat_minor": 5
}
