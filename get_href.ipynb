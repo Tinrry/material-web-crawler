{
 "cells": [
  {
   "cell_type": "code",
   "execution_count": 3,
   "id": "initial_id",
   "metadata": {
    "collapsed": true,
    "ExecuteTime": {
     "end_time": "2024-04-26T01:47:21.267415Z",
     "start_time": "2024-04-26T01:47:21.258085Z"
    }
   },
   "outputs": [],
   "source": [
    "import re\n",
    "import os"
   ]
  },
  {
   "cell_type": "code",
   "execution_count": 4,
   "id": "233254911cd03eb3",
   "metadata": {
    "collapsed": false,
    "ExecuteTime": {
     "end_time": "2024-04-26T01:47:21.268610Z",
     "start_time": "2024-04-26T01:47:21.264887Z"
    }
   },
   "outputs": [],
   "source": [
    "path = os.path.join(os.getcwd(), 'hand')\n",
    "for root, dirs, files in os.walk(path):\n",
    "    pass"
   ]
  },
  {
   "cell_type": "code",
   "execution_count": 5,
   "outputs": [],
   "source": [
    "save_path = os.path.join(os.getcwd(), 'get_link')\n",
    "if not os.path.exists(save_path):\n",
    "    os.mkdir(save_path)\n",
    "    "
   ],
   "metadata": {
    "collapsed": false,
    "ExecuteTime": {
     "end_time": "2024-04-26T01:47:21.282270Z",
     "start_time": "2024-04-26T01:47:21.269705Z"
    }
   },
   "id": "3d4462c881f2c715"
  },
  {
   "cell_type": "code",
   "execution_count": 6,
   "outputs": [
    {
     "name": "stdout",
     "output_type": "stream",
     "text": [
      "hand/Water-Hardening Steel-25-1\n",
      "/Users/xueguozhi/Documents/matweb/get_link\n"
     ]
    }
   ],
   "source": [
    "file_name = 'hand/Water-Hardening Steel-25-1.mht'\n",
    "print(file_name.split('.')[0])\n",
    "save_file = os.path.join(save_path, os.path.basename(file_name))\n",
    "print(save_path)\n"
   ],
   "metadata": {
    "collapsed": false,
    "ExecuteTime": {
     "end_time": "2024-04-26T01:47:21.283877Z",
     "start_time": "2024-04-26T01:47:21.277359Z"
    }
   },
   "id": "93e352ccbe2148b2"
  },
  {
   "cell_type": "code",
   "execution_count": 7,
   "id": "eebc4234252b49f6",
   "metadata": {
    "collapsed": false,
    "ExecuteTime": {
     "end_time": "2024-04-26T01:47:22.390844Z",
     "start_time": "2024-04-26T01:47:21.289258Z"
    }
   },
   "outputs": [
    {
     "name": "stdout",
     "output_type": "stream",
     "text": [
      "https://www.matweb.com/search/DataSheet.aspx?MatGUID=e8c17904d414475fa4c660c427cc39a0\n"
     ]
    }
   ],
   "source": [
    "import pandas as pd\n",
    "\n",
    "file_name = 'Water-Hardening Steel-25-1.mht'\n",
    "save_file = os.path.join(save_path, file_name.split('.')[0]) + '.csv'\n",
    "\n",
    "with open(os.path.join(os.getcwd(), 'hand', file_name), 'r') as f:\n",
    "    text = f.read()\n",
    "    text = text.replace('=\\n', '')\n",
    "    href_list = re.findall(r'href=3D\"(.*MatGUID.*)\"', text)\n",
    "    \n",
    "    defuse_str = '3D'\n",
    "    href_list = [i.replace(defuse_str, '') for i in href_list]\n",
    "    print(href_list[0])\n",
    "    \n",
    "    title_list = re.findall(r'href=3D.*MatGUID.*>(.*?)</a>', text)\n",
    "    if len(title_list) != len(href_list):\n",
    "        print('wrong')\n",
    "    else:\n",
    "        data = {'href': href_list, 'title': title_list}\n",
    "        data_frame = pd.DataFrame(data)\n",
    "        data_frame.to_csv(save_file, index=False)"
   ]
  },
  {
   "cell_type": "code",
   "execution_count": 7,
   "outputs": [],
   "source": [],
   "metadata": {
    "collapsed": false,
    "ExecuteTime": {
     "end_time": "2024-04-26T01:47:22.391325Z",
     "start_time": "2024-04-26T01:47:22.386955Z"
    }
   },
   "id": "b115bf22e27b10bd"
  }
 ],
 "metadata": {
  "kernelspec": {
   "display_name": "Python 3",
   "language": "python",
   "name": "python3"
  },
  "language_info": {
   "codemirror_mode": {
    "name": "ipython",
    "version": 2
   },
   "file_extension": ".py",
   "mimetype": "text/x-python",
   "name": "python",
   "nbconvert_exporter": "python",
   "pygments_lexer": "ipython2",
   "version": "2.7.6"
  }
 },
 "nbformat": 4,
 "nbformat_minor": 5
}
