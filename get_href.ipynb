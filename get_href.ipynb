{
 "cells": [
  {
   "cell_type": "code",
   "execution_count": 1,
   "id": "initial_id",
   "metadata": {
    "ExecuteTime": {
     "end_time": "2024-04-25T08:24:32.133348Z",
     "start_time": "2024-04-25T08:24:32.121131Z"
    },
    "collapsed": true
   },
   "outputs": [],
   "source": [
    "import re\n",
    "import os"
   ]
  },
  {
   "cell_type": "code",
   "execution_count": 2,
   "id": "233254911cd03eb3",
   "metadata": {
    "ExecuteTime": {
     "end_time": "2024-04-25T08:24:32.146261Z",
     "start_time": "2024-04-25T08:24:32.130758Z"
    },
    "collapsed": false
   },
   "outputs": [
    {
     "name": "stdout",
     "output_type": "stream",
     "text": [
      "['AISI 1000 Series Steel-623-2.mht', 'Low Alloy Steel-1833-3.mht', 'Low Carbon Steel-1424-1.mht', 'Duplex-45-1.mht', 'Low Alloy Steel-1833-2.mht', 'Shock-Resisting Steel-22-1.mht', 'AISI 1000 Series Steel-623-3.mht', 'AISI 1000 Series Steel-623-1.mht', 'Low Carbon Steel-1424-3.mht', 'Low Carbon Steel-1424-2.mht', 'Maraging Steel-70-1.mht', 'Low Alloy Steel-1833-1.mht', 'AISI 1000 Series Steel-623-4.mht', 'Low Alloy Steel-1833-5.mht', 'Water-3.mht', '.DS_Store', 'Water-2.mht', 'Low Alloy Steel-1833-4.mht', 'AISI 1000 Series Steel-623-5.mht', 'search-base.mht', ' T S10000 Series Stainless Steel-75-1.mht', 'Low Carbon Steel-1424-5.mht', 'Low Carbon Steel-1424-4.mht', 'AISI 4000 Series Steel-686-1.mhtml', 'AISI 4000 Series Steel-686-3.mht', 'AISI 4000 Series Steel-686-2.mht', ' T 300 Series Stainless Steel-560-1.mht', 'Oil-Hardening Steel-30-1.mht', 'Chrome-moly Steel-38-1.mht', 'AISI 4000 Series Steel-686-4.mht', 'Water-output.mht', 'T 600 Series Stainless Steel-37-1.mht', 'Cold Work Steel-109-1.mht', 'Hot Work Steel-92-1.mht', 'AISI 9000 Series Steel-118.mht', 'High Carbon Steel-401-3.mht', 'Medium Carbon Steel-985-2.mht', 'T 400 Series Stainless Steel-368-1.mht', 'Mold Steel-56-1.mht', 'Medium Carbon Steel-985-3.mht', 'High Carbon Steel-401-2.mht', 'Medium Carbon Steel-985-1.mht', 'Medium Alloy Steel-29-1.mht', 'High Carbon Steel-401-1.mht', 'High Carbon Steel-401-5.mht', 'Medium Carbon Steel-985-4.mht', 'Water-Hardening Steel-25-1.mht', 'AISI 8000 Series Steel-335-1.mht', 'Medium Carbon Steel-985-5.mht', 'High Carbon Steel-401-4.mht', 'Special-Purpose Steel-50-1.mht', 'AISI 8000 Series Steel-335-2.mht', 'Cast Stainless Steel-450-1.mht', 'AISI 5000 Series Steel-231-2.mht', 'ASTM Steel-610-1.mht', 'AISI 6000 Series Steel-38-1.mht', 'AISI 4000 Series Steel-2eramic Search Index.mht', 'ASTM Steel-610-3.mht', 'AISI 5000 Series Steel-231-1.mht', 'Air-Hardening Steel-63-1.mht', 'ASTM Steel-610-2.mht', 'Pressure Vessel Steel-22-1.mht', 'Precipitation Hardening Stainless-171-1.mht', 'ASTM Steel-610-4.mht']\n"
     ]
    }
   ],
   "source": [
    "path = os.path.join(os.getcwd(), 'hand')\n",
    "for root, dirs, files in os.walk(path):\n",
    "    pass"
   ]
  },
  {
   "cell_type": "code",
   "execution_count": 72,
   "outputs": [],
   "source": [
    "save_path = os.path.join(os.getcwd(), 'get_link')\n",
    "if not os.path.exists(save_path):\n",
    "    os.mkdir(save_path)\n",
    "    "
   ],
   "metadata": {
    "collapsed": false,
    "ExecuteTime": {
     "end_time": "2024-04-25T09:32:41.444916Z",
     "start_time": "2024-04-25T09:32:41.432308Z"
    }
   },
   "id": "3d4462c881f2c715"
  },
  {
   "cell_type": "code",
   "execution_count": 74,
   "outputs": [
    {
     "name": "stdout",
     "output_type": "stream",
     "text": [
      "hand/Water-Hardening Steel-25-1\n",
      "/Users/xueguozhi/Documents/matweb/get_link\n"
     ]
    }
   ],
   "source": [
    "file_name = 'hand/Water-Hardening Steel-25-1.mht'\n",
    "print(file_name.split('.')[0])\n",
    "save_file = os.path.join(save_path, os.path.basename(file_name))\n",
    "print(save_path)\n"
   ],
   "metadata": {
    "collapsed": false,
    "ExecuteTime": {
     "end_time": "2024-04-25T09:37:28.937456Z",
     "start_time": "2024-04-25T09:37:28.931582Z"
    }
   },
   "id": "93e352ccbe2148b2"
  },
  {
   "cell_type": "code",
   "execution_count": 75,
   "id": "eebc4234252b49f6",
   "metadata": {
    "collapsed": false,
    "ExecuteTime": {
     "end_time": "2024-04-25T09:40:27.828343Z",
     "start_time": "2024-04-25T09:40:27.820771Z"
    }
   },
   "outputs": [
    {
     "name": "stdout",
     "output_type": "stream",
     "text": [
      "25\n",
      "25\n"
     ]
    }
   ],
   "source": [
    "import pandas as pd\n",
    "\n",
    "file_name = 'Water-Hardening Steel-25-1.mht'\n",
    "save_file = os.path.join(save_path, file_name.split('.')[0]) + '.csv'\n",
    "\n",
    "with open(os.path.join(os.getcwd(), 'hand', file_name), 'r') as f:\n",
    "    text = f.read()\n",
    "    text = text.replace('=\\n', '')\n",
    "    href_list = re.findall(r'href=3D\"(.*MatGUID.*)\"', text)\n",
    "    title_list = re.findall(r'href=3D.*MatGUID.*>(.*?)</a>', text)\n",
    "    data = {'href': href_list, 'title': title_list}\n",
    "    data_frame = pd.DataFrame(data)\n",
    "    \n",
    "    data_frame.to_csv(save_file, index=False)"
   ]
  },
  {
   "cell_type": "code",
   "execution_count": null,
   "outputs": [],
   "source": [],
   "metadata": {
    "collapsed": false
   },
   "id": "b115bf22e27b10bd"
  }
 ],
 "metadata": {
  "kernelspec": {
   "display_name": "Python 3",
   "language": "python",
   "name": "python3"
  },
  "language_info": {
   "codemirror_mode": {
    "name": "ipython",
    "version": 2
   },
   "file_extension": ".py",
   "mimetype": "text/x-python",
   "name": "python",
   "nbconvert_exporter": "python",
   "pygments_lexer": "ipython2",
   "version": "2.7.6"
  }
 },
 "nbformat": 4,
 "nbformat_minor": 5
}
